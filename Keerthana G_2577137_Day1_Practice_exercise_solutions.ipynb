{
 "cells": [
  {
   "cell_type": "markdown",
   "id": "074af771",
   "metadata": {},
   "source": [
    "# 1. Manipulate using a list.\n",
    "i) To add new elements to the end of the list.\n",
    "ii) To reverse elements in the list.\n",
    "iii) To display the same list of elements multiple times.\n",
    "iv) To concatenate two lists.\n",
    "v) To sort the elements in the list in ascending order."
   ]
  },
  {
   "cell_type": "code",
   "execution_count": 1,
   "id": "9087343c",
   "metadata": {},
   "outputs": [
    {
     "data": {
      "text/plain": [
       "['a', 'b', 'c', 'd', 8, 9, 68, 73]"
      ]
     },
     "execution_count": 1,
     "metadata": {},
     "output_type": "execute_result"
    }
   ],
   "source": [
    "list = ['a','b','c','d',8,9,68,73]\n",
    "list\n"
   ]
  },
  {
   "cell_type": "code",
   "execution_count": 2,
   "id": "e30f8043",
   "metadata": {},
   "outputs": [
    {
     "data": {
      "text/plain": [
       "['a', 'b', 'c', 'd', 8, 9, 68, 73, 91, 'l']"
      ]
     },
     "execution_count": 2,
     "metadata": {},
     "output_type": "execute_result"
    }
   ],
   "source": [
    "#i) To add new elements to the end of the list.\n",
    "\n",
    "list.append(91) #to add single element to the list.\n",
    "\n",
    "list.extend('l') #to add multiple elements to the list.\n",
    "list"
   ]
  },
  {
   "cell_type": "code",
   "execution_count": 3,
   "id": "906d2f4c",
   "metadata": {},
   "outputs": [
    {
     "data": {
      "text/plain": [
       "['l', 91, 73, 68, 9, 8, 'd', 'c', 'b', 'a']"
      ]
     },
     "execution_count": 3,
     "metadata": {},
     "output_type": "execute_result"
    }
   ],
   "source": [
    "#ii) To reverse elements in the list.\n",
    "\n",
    "list.reverse()\n",
    "list\n"
   ]
  },
  {
   "cell_type": "code",
   "execution_count": 4,
   "id": "628cc45c",
   "metadata": {},
   "outputs": [
    {
     "data": {
      "text/plain": [
       "['l',\n",
       " 91,\n",
       " 73,\n",
       " 68,\n",
       " 9,\n",
       " 8,\n",
       " 'd',\n",
       " 'c',\n",
       " 'b',\n",
       " 'a',\n",
       " 'l',\n",
       " 91,\n",
       " 73,\n",
       " 68,\n",
       " 9,\n",
       " 8,\n",
       " 'd',\n",
       " 'c',\n",
       " 'b',\n",
       " 'a',\n",
       " 'l',\n",
       " 91,\n",
       " 73,\n",
       " 68,\n",
       " 9,\n",
       " 8,\n",
       " 'd',\n",
       " 'c',\n",
       " 'b',\n",
       " 'a']"
      ]
     },
     "execution_count": 4,
     "metadata": {},
     "output_type": "execute_result"
    }
   ],
   "source": [
    "#iii) To display the same list of elements multiple times.\n",
    "\n",
    "list = list*3\n",
    "list\n",
    "\n"
   ]
  },
  {
   "cell_type": "code",
   "execution_count": 5,
   "id": "69082d94",
   "metadata": {},
   "outputs": [
    {
     "name": "stdout",
     "output_type": "stream",
     "text": [
      "Concatenated list:\n",
      "['apple', 'Banana', 'Cucumber', 'Dill']\n"
     ]
    }
   ],
   "source": [
    "#iv) To concatenate two lists.\n",
    "\n",
    "list1 = ['apple','Banana'] \n",
    "list2 = ['Cucumber','Dill'] \n",
    "\n",
    "\n",
    "res = list1 + list2 \n",
    "\n",
    "\n",
    "print (\"Concatenated list:\\n\" + str(res))"
   ]
  },
  {
   "cell_type": "code",
   "execution_count": 6,
   "id": "fd477531",
   "metadata": {},
   "outputs": [
    {
     "data": {
      "text/plain": [
       "[1, 5, 6, 8, 9]"
      ]
     },
     "execution_count": 6,
     "metadata": {},
     "output_type": "execute_result"
    }
   ],
   "source": [
    "#v) To sort the elements in the list in ascending order.\n",
    "\n",
    "list = [9,6,8,5,1]\n",
    "list.sort()\n",
    "list"
   ]
  },
  {
   "cell_type": "markdown",
   "id": "e0c8200f",
   "metadata": {},
   "source": [
    "# 2. Write a python program to do in the tuples.\n",
    "i) Manipulate using tuples.\n",
    "ii) To add new elements to the end of the tuples.\n",
    "iii) To reverse elements in the list.\n",
    "iv) To display the elements of the same tuple multiple times.\n",
    "v) To concatenate two tuples.\n",
    "vi) To sort the elements in the list in ascending order."
   ]
  },
  {
   "cell_type": "code",
   "execution_count": 9,
   "id": "74669931",
   "metadata": {},
   "outputs": [
    {
     "data": {
      "text/plain": [
       "(1, 2, 3, 4, 5)"
      ]
     },
     "execution_count": 9,
     "metadata": {},
     "output_type": "execute_result"
    }
   ],
   "source": [
    "Country = ['India','South korea','Japan'] # example1\n",
    "Country\n",
    "\n",
    "tup = (1,2,3,4) #example2\n",
    "tup\n",
    "\n",
    "my_tuple = (1, 2, 3, 4, 5) #example3\n",
    "my_tuple"
   ]
  },
  {
   "cell_type": "code",
   "execution_count": 10,
   "id": "9b85c84a",
   "metadata": {},
   "outputs": [
    {
     "name": "stdout",
     "output_type": "stream",
     "text": [
      "Accessing elements in the tuple:\n",
      "1\n",
      "2\n",
      "3\n",
      "4\n",
      "5\n"
     ]
    }
   ],
   "source": [
    "#i) Manipulate using tuples.\n",
    "print(\"Accessing elements in the tuple:\")\n",
    "for element in my_tuple:\n",
    "    print(element)\n"
   ]
  },
  {
   "cell_type": "code",
   "execution_count": 11,
   "id": "6eccbbe6",
   "metadata": {},
   "outputs": [
    {
     "name": "stdout",
     "output_type": "stream",
     "text": [
      "\n",
      "Tuple after adding elements to the end: (1, 2, 3, 4, 5, 6, 7)\n"
     ]
    }
   ],
   "source": [
    "#ii) To add new elements to the end of the tuples.\n",
    "\n",
    "my_tuple += (6, 7)\n",
    "print(\"\\nTuple after adding elements to the end:\", my_tuple)"
   ]
  },
  {
   "cell_type": "code",
   "execution_count": 12,
   "id": "1b9c9330",
   "metadata": {},
   "outputs": [
    {
     "name": "stdout",
     "output_type": "stream",
     "text": [
      "\n",
      "Reversed tuple: (7, 6, 5, 4, 3, 2, 1)\n"
     ]
    }
   ],
   "source": [
    "#iii) To reverse elements in the list.\n",
    "\n",
    "reversed_tuple = my_tuple[::-1]\n",
    "print(\"\\nReversed tuple:\", reversed_tuple)"
   ]
  },
  {
   "cell_type": "code",
   "execution_count": 13,
   "id": "a228d1a3",
   "metadata": {},
   "outputs": [
    {
     "name": "stdout",
     "output_type": "stream",
     "text": [
      "\n",
      "Tuple repeated 3 times: (1, 2, 3, 4, 5, 6, 7, 1, 2, 3, 4, 5, 6, 7, 1, 2, 3, 4, 5, 6, 7)\n"
     ]
    }
   ],
   "source": [
    "#iv) To display the elements of the same tuple multiple times.\n",
    "\n",
    "repeated_tuple = my_tuple * 3\n",
    "print(\"\\nTuple repeated 3 times:\", repeated_tuple)"
   ]
  },
  {
   "cell_type": "code",
   "execution_count": 14,
   "id": "b8851b49",
   "metadata": {},
   "outputs": [
    {
     "name": "stdout",
     "output_type": "stream",
     "text": [
      "\n",
      "Concatenated tuple: (8, 9, 10, 11)\n"
     ]
    }
   ],
   "source": [
    "#v) To concatenate two tuples.\n",
    "\n",
    "tuple1 = (8, 9)\n",
    "tuple2 = (10, 11)\n",
    "concatenated_tuple = tuple1 + tuple2\n",
    "print(\"\\nConcatenated tuple:\", concatenated_tuple)"
   ]
  },
  {
   "cell_type": "code",
   "execution_count": 15,
   "id": "20db60ad",
   "metadata": {},
   "outputs": [
    {
     "name": "stdout",
     "output_type": "stream",
     "text": [
      "\n",
      "Sorted tuple in ascending order: (1, 2, 3, 4, 5, 6, 7)\n"
     ]
    }
   ],
   "source": [
    "#vi) To sort the elements in the list in ascending order.\n",
    "\n",
    "sorted_tuple = tuple(sorted(my_tuple))\n",
    "print(\"\\nSorted tuple in ascending order:\", sorted_tuple)"
   ]
  },
  {
   "cell_type": "markdown",
   "id": "6ad409de",
   "metadata": {},
   "source": [
    "# 3. Write a python program to implement the following using list.\n",
    "i) Create a list with integers(minimum 10 numbers).\n",
    "ii) How to display the last number in the list.\n",
    "iii) Command for displaying the values from the list[0:4]\n",
    "iv) Command for displaying the values from the list[2:]\n",
    "v) Command for displaying the values from the list[:6]"
   ]
  },
  {
   "cell_type": "code",
   "execution_count": 16,
   "id": "126d36c1",
   "metadata": {},
   "outputs": [
    {
     "data": {
      "text/plain": [
       "[1, 2, 3, 4, 5, 6, 7, 8, 9, 10, 11, 12]"
      ]
     },
     "execution_count": 16,
     "metadata": {},
     "output_type": "execute_result"
    }
   ],
   "source": [
    "#i) Create a list with integers(minimum 10 numbers).\n",
    "\n",
    "List = [1,2,3,4,5,6,7,8,9,10,11,12]\n",
    "List"
   ]
  },
  {
   "cell_type": "code",
   "execution_count": 17,
   "id": "8c876003",
   "metadata": {},
   "outputs": [
    {
     "name": "stdout",
     "output_type": "stream",
     "text": [
      "Last number in the List:  12\n"
     ]
    }
   ],
   "source": [
    "#ii) How to display the last number in the list.\n",
    "\n",
    "last_number = List[-1]\n",
    "print(\"Last number in the List: \", last_number)\n",
    "\n"
   ]
  },
  {
   "cell_type": "code",
   "execution_count": 18,
   "id": "0f0c0467",
   "metadata": {},
   "outputs": [
    {
     "data": {
      "text/plain": [
       "[1, 2, 3, 4]"
      ]
     },
     "execution_count": 18,
     "metadata": {},
     "output_type": "execute_result"
    }
   ],
   "source": [
    "#iii) Command for displaying the values from the list[0:4]\n",
    "\n",
    "List[0:4]\n"
   ]
  },
  {
   "cell_type": "code",
   "execution_count": 19,
   "id": "12a1019f",
   "metadata": {},
   "outputs": [
    {
     "data": {
      "text/plain": [
       "[3, 4, 5, 6, 7, 8, 9, 10, 11, 12]"
      ]
     },
     "execution_count": 19,
     "metadata": {},
     "output_type": "execute_result"
    }
   ],
   "source": [
    "#iv) Command for displaying the values from the list[2:]\n",
    "\n",
    "List[2:]"
   ]
  },
  {
   "cell_type": "code",
   "execution_count": 20,
   "id": "4252d506",
   "metadata": {},
   "outputs": [
    {
     "data": {
      "text/plain": [
       "[1, 2, 3, 4, 5, 6]"
      ]
     },
     "execution_count": 20,
     "metadata": {},
     "output_type": "execute_result"
    }
   ],
   "source": [
    "#v) Command for displaying the values from the list[:6]\n",
    "\n",
    "List[:6]"
   ]
  },
  {
   "cell_type": "markdown",
   "id": "94af308d",
   "metadata": {},
   "source": [
    "# 4. Write a Python program: tuple1 =(10,50,20,40,30)\n",
    "i) To display the elements 10 and 50 from tuple1\n",
    "ii)To display the length of a tuple1\n",
    "iii)To find the minimum element from tuple1\n",
    "iv)To add all elements in the tuple1\n",
    "v) To display the same tuple1 multiple times."
   ]
  },
  {
   "cell_type": "code",
   "execution_count": 21,
   "id": "9e6e2e7d",
   "metadata": {},
   "outputs": [
    {
     "data": {
      "text/plain": [
       "(10, 50, 20, 40, 30)"
      ]
     },
     "execution_count": 21,
     "metadata": {},
     "output_type": "execute_result"
    }
   ],
   "source": [
    "tuple1 = (10,50,20,40,30)\n",
    "tuple1"
   ]
  },
  {
   "cell_type": "code",
   "execution_count": 22,
   "id": "29fd72be",
   "metadata": {},
   "outputs": [
    {
     "data": {
      "text/plain": [
       "(10, 50)"
      ]
     },
     "execution_count": 22,
     "metadata": {},
     "output_type": "execute_result"
    }
   ],
   "source": [
    "#i) To display the elements 10 and 50 from tuple1\n",
    "\n",
    "tuple1[:2]"
   ]
  },
  {
   "cell_type": "code",
   "execution_count": 23,
   "id": "70eb6505",
   "metadata": {},
   "outputs": [
    {
     "name": "stdout",
     "output_type": "stream",
     "text": [
      "Length of the tuple:  5\n"
     ]
    }
   ],
   "source": [
    "#ii)To display the length of a tuple1\n",
    "\n",
    "tuple_length = len(tuple1)\n",
    "print(\"Length of the tuple: \", tuple_length)"
   ]
  },
  {
   "cell_type": "code",
   "execution_count": 24,
   "id": "8ced6340",
   "metadata": {},
   "outputs": [
    {
     "name": "stdout",
     "output_type": "stream",
     "text": [
      "Minimum element in tuple1:  10\n"
     ]
    }
   ],
   "source": [
    "#iii)To find the minimum element from tuple1\n",
    "\n",
    "min_element = min(tuple1)\n",
    "print(\"Minimum element in tuple1: \", min_element)"
   ]
  },
  {
   "cell_type": "code",
   "execution_count": 25,
   "id": "fa4f2d8e",
   "metadata": {},
   "outputs": [
    {
     "name": "stdout",
     "output_type": "stream",
     "text": [
      "Sum of elements in tuple1:  150\n"
     ]
    }
   ],
   "source": [
    "#iv)To add all elements in the tuple1\n",
    "\n",
    "sum_of_elements = sum(tuple1)\n",
    "print(\"Sum of elements in tuple1: \", sum_of_elements)"
   ]
  },
  {
   "cell_type": "code",
   "execution_count": 27,
   "id": "cf3bc477",
   "metadata": {},
   "outputs": [
    {
     "name": "stdout",
     "output_type": "stream",
     "text": [
      "Tuple1 displayed 2 times:  (10, 50, 20, 40, 30, 10, 50, 20, 40, 30)\n"
     ]
    }
   ],
   "source": [
    "#v) To display the same tuple1 multiple times\n",
    "\n",
    "result_tuple = tuple1 * 2\n",
    "print(\"Tuple1 displayed\", 2, \"times: \", result_tuple)"
   ]
  },
  {
   "cell_type": "markdown",
   "id": "62b208bb",
   "metadata": {},
   "source": [
    "# 5. Write a Python program:\n",
    "i) To calcuate the length of a string\n",
    "ii) To reverse words in a string\n",
    "iii) To display the same string multiple times\n",
    "iv) To concatenate two strings\n",
    "v) Str = \"South India\", using string slicing to display \"India\""
   ]
  },
  {
   "cell_type": "code",
   "execution_count": 28,
   "id": "a721cad0",
   "metadata": {},
   "outputs": [
    {
     "name": "stdout",
     "output_type": "stream",
     "text": [
      "Length of string1:  13\n"
     ]
    }
   ],
   "source": [
    "# i) To calculate the length of a string\n",
    "\n",
    "string1 = \"Hello, World!\"\n",
    "length = len(string1)\n",
    "print(\"Length of string1: \", length)"
   ]
  },
  {
   "cell_type": "code",
   "execution_count": 34,
   "id": "01b26868",
   "metadata": {},
   "outputs": [
    {
     "data": {
      "text/plain": [
       "'!dlroW ,olleH'"
      ]
     },
     "execution_count": 34,
     "metadata": {},
     "output_type": "execute_result"
    }
   ],
   "source": [
    "# ii) To reverse words in a string\n",
    "\n",
    "string1[::-1]"
   ]
  },
  {
   "cell_type": "code",
   "execution_count": 35,
   "id": "8f4987dc",
   "metadata": {},
   "outputs": [
    {
     "name": "stdout",
     "output_type": "stream",
     "text": [
      "String2 displayed 3 times:  PythonPythonPython\n"
     ]
    }
   ],
   "source": [
    "# iii) To display the same string multiple times\n",
    "\n",
    "string2 = \"Python\"\n",
    "n = 3  # Number of times to display the string\n",
    "result_string = string2 * 3\n",
    "print(\"String2 displayed\", 3, \"times: \", result_string)"
   ]
  },
  {
   "cell_type": "code",
   "execution_count": 37,
   "id": "ccb6020c",
   "metadata": {},
   "outputs": [
    {
     "name": "stdout",
     "output_type": "stream",
     "text": [
      "Concatenated string:  Python is a high level language\n"
     ]
    }
   ],
   "source": [
    "# iv) To concatenate two strings\n",
    "\n",
    "string3 = \" is a high level language\"\n",
    "concatenated_string = string2 + string3\n",
    "print(\"Concatenated string: \", concatenated_string)"
   ]
  },
  {
   "cell_type": "code",
   "execution_count": 39,
   "id": "1ea6b938",
   "metadata": {},
   "outputs": [
    {
     "data": {
      "text/plain": [
       "'India'"
      ]
     },
     "execution_count": 39,
     "metadata": {},
     "output_type": "execute_result"
    }
   ],
   "source": [
    "# v)Str = \"South India\", using string slicing to display \"India\"\n",
    "\n",
    "str = \"South India\"\n",
    "str[6:]"
   ]
  },
  {
   "cell_type": "markdown",
   "id": "b88ed2be",
   "metadata": {},
   "source": [
    "# 6. Perform the following:\n",
    "i) Creating the directory.\n",
    "ii)Accessing values and keys in the directory.\n",
    "iii)Updating the directory using a function.\n",
    "iv)Clear and delete the directory values."
   ]
  },
  {
   "cell_type": "code",
   "execution_count": 44,
   "id": "48f0c678",
   "metadata": {},
   "outputs": [],
   "source": [
    "#i) Creating the directory.\n",
    "\n",
    "Dir = {'f_name':'Chandler','l_name':'Bing','age':28,'city':'New york'}"
   ]
  },
  {
   "cell_type": "code",
   "execution_count": 48,
   "id": "01ecdf83",
   "metadata": {},
   "outputs": [
    {
     "name": "stdout",
     "output_type": "stream",
     "text": [
      "2. Accessing values by keys:\n",
      "f_name: Chandler\n",
      "l_name: Bing\n",
      "Age: 28\n",
      "City: New york\n"
     ]
    }
   ],
   "source": [
    "#ii)Accessing values and keys in the directory.\n",
    "\n",
    "# Accessing values by keys\n",
    "print(\"2. Accessing values by keys:\")\n",
    "print(\"f_name:\", Dir['f_name'])\n",
    "print(\"l_name:\", Dir['l_name'])\n",
    "print(\"Age:\", Dir['age'])\n",
    "print(\"City:\", Dir['city'])\n",
    "\n",
    "\n"
   ]
  },
  {
   "cell_type": "code",
   "execution_count": 49,
   "id": "1a9b02f8",
   "metadata": {},
   "outputs": [
    {
     "name": "stdout",
     "output_type": "stream",
     "text": [
      "\n",
      "3. Updated dictionary: {'f_name': 'Chandler', 'l_name': 'Bing', 'age': 28, 'city': 'New york', 'occupation': 'Engineer'}\n"
     ]
    }
   ],
   "source": [
    "#iii)Updating the directory using a function.\n",
    "\n",
    "def update_dictionary(dictionary, key, value):\n",
    "    dictionary[key] = value\n",
    "\n",
    "update_dictionary(Dir, 'occupation', 'Engineer')\n",
    "print(\"\\n3. Updated dictionary:\", Dir)\n",
    "\n"
   ]
  },
  {
   "cell_type": "code",
   "execution_count": 51,
   "id": "469384bc",
   "metadata": {},
   "outputs": [
    {
     "name": "stdout",
     "output_type": "stream",
     "text": [
      "\n",
      "4. Cleared dictionary:  {}\n"
     ]
    }
   ],
   "source": [
    "#iv)Clear and delete the directory values.\n",
    "\n",
    "Dir.clear()\n",
    "print(\"\\n4. Cleared dictionary: \", Dir)\n"
   ]
  },
  {
   "cell_type": "markdown",
   "id": "f8b7928b",
   "metadata": {},
   "source": [
    "# 7. Python program to insert a number to any position in a list"
   ]
  },
  {
   "cell_type": "code",
   "execution_count": 52,
   "id": "f7698b03",
   "metadata": {},
   "outputs": [
    {
     "name": "stdout",
     "output_type": "stream",
     "text": [
      "Updated list:  [1, 2, 6, 3, 4, 5]\n"
     ]
    }
   ],
   "source": [
    "List = [1, 2, 3, 4, 5]\n",
    "number_to_insert = 6  # Number to insert\n",
    "position = 2  # Insert at index 2, which is the third position\n",
    "List.insert(position, number_to_insert)  # Insert the number at the specified position\n",
    "print(\"Updated list: \", List)   # Print the updated list\n"
   ]
  },
  {
   "cell_type": "markdown",
   "id": "850134ae",
   "metadata": {},
   "source": [
    "# 8. Python program to delete an element from a list by index."
   ]
  },
  {
   "cell_type": "code",
   "execution_count": 56,
   "id": "ca7513c6",
   "metadata": {},
   "outputs": [
    {
     "name": "stdout",
     "output_type": "stream",
     "text": [
      "Updated list:  [1, 2, 3, 5, 6, 7, 8]\n",
      "Deleted element: 4\n"
     ]
    }
   ],
   "source": [
    "List = [1,2,3,4,5,6,7,8]\n",
    "index_to_delete = 3  \n",
    "deleted_element = List.pop(index_to_delete)\n",
    "print(\"Updated list: \", List)\n",
    "print(\"Deleted element:\", deleted_element)"
   ]
  },
  {
   "cell_type": "markdown",
   "id": "73aef118",
   "metadata": {},
   "source": [
    "# 9. Write a program to display a number from 1 to 100"
   ]
  },
  {
   "cell_type": "code",
   "execution_count": 57,
   "id": "9adcfbce",
   "metadata": {},
   "outputs": [
    {
     "name": "stdout",
     "output_type": "stream",
     "text": [
      "1\n",
      "2\n",
      "3\n",
      "4\n",
      "5\n",
      "6\n",
      "7\n",
      "8\n",
      "9\n",
      "10\n",
      "11\n",
      "12\n",
      "13\n",
      "14\n",
      "15\n",
      "16\n",
      "17\n",
      "18\n",
      "19\n",
      "20\n",
      "21\n",
      "22\n",
      "23\n",
      "24\n",
      "25\n",
      "26\n",
      "27\n",
      "28\n",
      "29\n",
      "30\n",
      "31\n",
      "32\n",
      "33\n",
      "34\n",
      "35\n",
      "36\n",
      "37\n",
      "38\n",
      "39\n",
      "40\n",
      "41\n",
      "42\n",
      "43\n",
      "44\n",
      "45\n",
      "46\n",
      "47\n",
      "48\n",
      "49\n",
      "50\n",
      "51\n",
      "52\n",
      "53\n",
      "54\n",
      "55\n",
      "56\n",
      "57\n",
      "58\n",
      "59\n",
      "60\n",
      "61\n",
      "62\n",
      "63\n",
      "64\n",
      "65\n",
      "66\n",
      "67\n",
      "68\n",
      "69\n",
      "70\n",
      "71\n",
      "72\n",
      "73\n",
      "74\n",
      "75\n",
      "76\n",
      "77\n",
      "78\n",
      "79\n",
      "80\n",
      "81\n",
      "82\n",
      "83\n",
      "84\n",
      "85\n",
      "86\n",
      "87\n",
      "88\n",
      "89\n",
      "90\n",
      "91\n",
      "92\n",
      "93\n",
      "94\n",
      "95\n",
      "96\n",
      "97\n",
      "98\n",
      "99\n",
      "100\n"
     ]
    }
   ],
   "source": [
    "for number in range(1, 101):\n",
    "    print(number)"
   ]
  },
  {
   "cell_type": "markdown",
   "id": "973143a7",
   "metadata": {},
   "source": [
    "# 10. Write a python program to find the sum of all the items in a tuple."
   ]
  },
  {
   "cell_type": "code",
   "execution_count": 59,
   "id": "cce55b6f",
   "metadata": {},
   "outputs": [
    {
     "name": "stdout",
     "output_type": "stream",
     "text": [
      "Sum of elements in tuple:  275\n"
     ]
    }
   ],
   "source": [
    "tuple = (5,10,15,20,25,30,35,40,45,50)\n",
    "sum_of_elements = sum(tuple)\n",
    "print(\"Sum of elements in tuple: \", sum_of_elements)"
   ]
  },
  {
   "cell_type": "markdown",
   "id": "c2e541fb",
   "metadata": {},
   "source": [
    "# 11. Create a directory containing three lambda functions square,cube and square root.\n",
    "i)E.g. dict= {'square':function for squaring,'cube':function for cube,'squareroot':function for square root}\n",
    "ii) Pass the values(input from the user) to the functions in the directory respectively.\n",
    "iii)Then add the outputs of each function and print it."
   ]
  },
  {
   "cell_type": "code",
   "execution_count": 61,
   "id": "dc6675d4",
   "metadata": {},
   "outputs": [
    {
     "name": "stdout",
     "output_type": "stream",
     "text": [
      "Enter a number: 9\n",
      "square of 9.0 is 81.0\n",
      "cube of 9.0 is 729.0\n",
      "squareroot of 9.0 is 3.0\n",
      "Sum of the outputs: 813.0\n"
     ]
    }
   ],
   "source": [
    "import math\n",
    "\n",
    "# Create a dictionary of lambda functions\n",
    "func_dict = {\n",
    "    'square': lambda x: x ** 2,\n",
    "    'cube': lambda x: x ** 3,\n",
    "    'squareroot': lambda x: math.sqrt(x)\n",
    "}\n",
    "\n",
    "# Input from the user\n",
    "num = float(input(\"Enter a number: \"))\n",
    "\n",
    "# Initialize a variable to store the sum of outputs\n",
    "total = 0\n",
    "\n",
    "# Iterate through the functions in the dictionary\n",
    "for func_name, func in func_dict.items():\n",
    "    result = func(num)\n",
    "    print(f\"{func_name} of {num} is {result}\")\n",
    "    total += result\n",
    "\n",
    "# Print the sum of outputs\n",
    "print(\"Sum of the outputs:\", total)"
   ]
  },
  {
   "cell_type": "markdown",
   "id": "e16ad44f",
   "metadata": {},
   "source": [
    "# 12. A list of words is given. Find the words from the list that have their second character in uppercase.\n",
    "ls=['hello','Dear','hOw','ARe','You']"
   ]
  },
  {
   "cell_type": "code",
   "execution_count": 62,
   "id": "e1374cef",
   "metadata": {},
   "outputs": [
    {
     "name": "stdout",
     "output_type": "stream",
     "text": [
      "Words with a second uppercase character:  ['hOw', 'ARe']\n"
     ]
    }
   ],
   "source": [
    "ls = ['hello', 'Dear', 'hOw', 'ARe', 'You']\n",
    "\n",
    "# Initialize a list to store words with a second uppercase character\n",
    "result_words = []\n",
    "\n",
    "# Iterate through the list\n",
    "for word in ls:\n",
    "    if len(word) >= 2 and word[1].isupper():\n",
    "        result_words.append(word)\n",
    "print(\"Words with a second uppercase character: \", result_words)"
   ]
  },
  {
   "cell_type": "markdown",
   "id": "d876dd5b",
   "metadata": {},
   "source": [
    "# 13.A directory of names and their weights on earth is given. Find how much they will weigh on the moon. \n",
    "(use map and lambda functions) Formula: w wMoon = (wEarth*GMoon)/GEarth\n",
    "\n",
    "i) #Weight of people in kg\n",
    "   WeightOnEarth = {'John':45,'Shelly':65,'Marry':35}\n",
    "\n",
    "ii)#Gravitational force on the Moon: 1.622m/s2\n",
    "    GMoon = 1.622\n",
    "    \n",
    "iii)#Gravitational force on the Earth: 9.81m/s2\n",
    "    GEarth = 9.81"
   ]
  },
  {
   "cell_type": "code",
   "execution_count": 63,
   "id": "7544bf84",
   "metadata": {},
   "outputs": [
    {
     "name": "stdout",
     "output_type": "stream",
     "text": [
      "John's weight on the moon: 7.44 kg\n",
      "Shelly's weight on the moon: 10.75 kg\n",
      "Marry's weight on the moon: 5.79 kg\n"
     ]
    }
   ],
   "source": [
    "# Weight of people in kg on Earth\n",
    "WeightOnEarth = {'John': 45, 'Shelly': 65, 'Marry': 35}\n",
    "\n",
    "# Gravitational forces\n",
    "GMoon = 1.622\n",
    "GEarth = 9.81\n",
    "\n",
    "# Calculate weight on the moon using map and lambda functions\n",
    "WeightOnMoon = map(lambda weight: (weight * GMoon) / GEarth, WeightOnEarth.values())\n",
    "\n",
    "# Create a dictionary of names and their weights on the moon\n",
    "WeightOnMoonDict = dict(zip(WeightOnEarth.keys(), WeightOnMoon))\n",
    "\n",
    "# Print the weights on the moon\n",
    "for name, weight in WeightOnMoonDict.items():\n",
    "    print(f\"{name}'s weight on the moon: {weight:.2f} kg\")"
   ]
  },
  {
   "cell_type": "markdown",
   "id": "9d487dc2",
   "metadata": {},
   "source": [
    "# Control Structures:"
   ]
  },
  {
   "cell_type": "markdown",
   "id": "88b88896",
   "metadata": {},
   "source": [
    "# 1. Write a python program to find the first N prime numbers."
   ]
  },
  {
   "cell_type": "code",
   "execution_count": 65,
   "id": "ea337a9e",
   "metadata": {},
   "outputs": [
    {
     "name": "stdout",
     "output_type": "stream",
     "text": [
      "Enter the value of N: 10\n",
      "The first 10 prime numbers are:\n",
      "[2, 3, 5, 7, 11, 13, 17, 19, 23, 29]\n"
     ]
    }
   ],
   "source": [
    "def is_prime(number):\n",
    "    if number <= 1:\n",
    "        return False\n",
    "    elif number <= 3:\n",
    "        return True\n",
    "    elif number % 2 == 0 or number % 3 == 0:\n",
    "        return False\n",
    "    i = 5\n",
    "    while i * i <= number:\n",
    "        if number % i == 0 or number % (i + 2) == 0:\n",
    "            return False\n",
    "        i += 6\n",
    "    return True\n",
    "\n",
    "def find_first_n_primes(N):\n",
    "    prime_numbers = []\n",
    "    number = 2\n",
    "    while len(prime_numbers) < N:\n",
    "        if is_prime(number):\n",
    "            prime_numbers.append(number)\n",
    "        number += 1\n",
    "    return prime_numbers\n",
    "\n",
    "N = int(input(\"Enter the value of N: \"))\n",
    "prime_list = find_first_n_primes(N)\n",
    "\n",
    "print(f\"The first {N} prime numbers are:\")\n",
    "print(prime_list)"
   ]
  },
  {
   "cell_type": "markdown",
   "id": "a63f4264",
   "metadata": {},
   "source": [
    "# 2. Write the python code that calculates the salary of an employee. Prompt the user to enter the Basic salary,HRA, TA and DA.Add these components to calculate the gross salary.Also, deduct 10% of salary from the gross salary to be paid as tax and display gross minus tax as net salary."
   ]
  },
  {
   "cell_type": "code",
   "execution_count": 66,
   "id": "ec901fe9",
   "metadata": {},
   "outputs": [
    {
     "name": "stdout",
     "output_type": "stream",
     "text": [
      "Enter Basic Salary: 10000\n",
      "Enter HRA: 2000\n",
      "Enter TA: 1200\n",
      "Enter DA: 600\n",
      "\n",
      "Salary Details:\n",
      "Basic Salary: 10000.0\n",
      "HRA: 2000.0\n",
      "TA: 1200.0\n",
      "DA: 600.0\n",
      "Gross Salary: 13800.0\n",
      "Tax: 1380.0\n",
      "Net Salary: 12420.0\n"
     ]
    }
   ],
   "source": [
    "# Prompt the user to enter basic salary, HRA, TA, and DA\n",
    "basic_salary = float(input(\"Enter Basic Salary: \"))\n",
    "hra = float(input(\"Enter HRA: \"))\n",
    "ta = float(input(\"Enter TA: \"))\n",
    "da = float(input(\"Enter DA: \"))\n",
    "\n",
    "# Calculate gross salary\n",
    "gross_salary = basic_salary + hra + ta + da\n",
    "\n",
    "# Calculate tax (10% of the gross salary)\n",
    "tax = 0.10 * gross_salary\n",
    "\n",
    "# Calculate net salary (gross salary - tax)\n",
    "net_salary = gross_salary - tax\n",
    "\n",
    "# Display the results\n",
    "print(\"\\nSalary Details:\")\n",
    "print(f\"Basic Salary: {basic_salary}\")\n",
    "print(f\"HRA: {hra}\")\n",
    "print(f\"TA: {ta}\")\n",
    "print(f\"DA: {da}\")\n",
    "print(f\"Gross Salary: {gross_salary}\")\n",
    "print(f\"Tax: {tax}\")\n",
    "print(f\"Net Salary: {net_salary}\")\n"
   ]
  },
  {
   "cell_type": "markdown",
   "id": "25bbc5d7",
   "metadata": {},
   "source": [
    "# 3. Write a python program to search for a string in the given list."
   ]
  },
  {
   "cell_type": "code",
   "execution_count": 67,
   "id": "319b2183",
   "metadata": {},
   "outputs": [
    {
     "name": "stdout",
     "output_type": "stream",
     "text": [
      "Enter a string to search for: cherry\n",
      "'cherry' was found in the list.\n"
     ]
    }
   ],
   "source": [
    "# Given list of strings\n",
    "string_list = [\"apple\", \"banana\", \"cherry\", \"custard apple\", \"pineapple\"]\n",
    "\n",
    "# String to search for\n",
    "search_string = input(\"Enter a string to search for: \")\n",
    "\n",
    "# Initialize a flag to check if the string is found\n",
    "found = False\n",
    "\n",
    "# Loop through the list to search for the string\n",
    "for item in string_list:\n",
    "    if search_string.lower() == item.lower():  \n",
    "        found = True\n",
    "        break  # Exit the loop when the string is found\n",
    "\n",
    "# Check if the string was found or not\n",
    "if found:\n",
    "    print(f\"'{search_string}' was found in the list.\")\n",
    "else:\n",
    "    print(f\"'{search_string}' was not found in the list.\")"
   ]
  },
  {
   "cell_type": "markdown",
   "id": "992eb810",
   "metadata": {},
   "source": [
    "# 4. Write a python function that accepts a string and calculates the number of upper-case letters and lower-case letter."
   ]
  },
  {
   "cell_type": "code",
   "execution_count": 68,
   "id": "5738201c",
   "metadata": {},
   "outputs": [
    {
     "name": "stdout",
     "output_type": "stream",
     "text": [
      "Enter a string: It was QUIET imaginary. \n",
      "Number of uppercase letters: 6\n",
      "Number of lowercase letters: 13\n"
     ]
    }
   ],
   "source": [
    "def count_upper_lower(string):\n",
    "    \n",
    "    upper_count = 0\n",
    "    lower_count = 0\n",
    "    \n",
    "    # Iterate through each character in the string\n",
    "    for char in string:\n",
    "        if char.isupper():\n",
    "            upper_count += 1\n",
    "        elif char.islower():\n",
    "            lower_count += 1\n",
    "    \n",
    "    return upper_count, lower_count\n",
    "\n",
    "# Example usage:\n",
    "input_string = input(\"Enter a string: \")\n",
    "upper, lower = count_upper_lower(input_string)\n",
    "\n",
    "print(f\"Number of uppercase letters: {upper}\")\n",
    "print(f\"Number of lowercase letters: {lower}\")"
   ]
  },
  {
   "cell_type": "markdown",
   "id": "2a3028ab",
   "metadata": {},
   "source": [
    "# 5. Write a program to display the sum of odd numbers and even numbers that fall between 12 and 37."
   ]
  },
  {
   "cell_type": "code",
   "execution_count": 69,
   "id": "b8e9df56",
   "metadata": {},
   "outputs": [
    {
     "name": "stdout",
     "output_type": "stream",
     "text": [
      "Sum of even numbers: 312\n",
      "Sum of odd numbers: 325\n"
     ]
    }
   ],
   "source": [
    "even_sum = 0\n",
    "odd_sum = 0\n",
    "\n",
    "# Loop through numbers from 12 to 37 (inclusive)\n",
    "for num in range(12, 38):\n",
    "    if num % 2 == 0:  # Check if the number is even\n",
    "        even_sum += num\n",
    "    else:  # If not even, it's odd\n",
    "        odd_sum += num\n",
    "\n",
    "# Display the sums\n",
    "print(\"Sum of even numbers:\", even_sum)\n",
    "print(\"Sum of odd numbers:\", odd_sum)"
   ]
  },
  {
   "cell_type": "markdown",
   "id": "69d5973d",
   "metadata": {},
   "source": [
    "# 6.Write a python program to print the table of any number."
   ]
  },
  {
   "cell_type": "code",
   "execution_count": 70,
   "id": "8c445f7e",
   "metadata": {},
   "outputs": [
    {
     "name": "stdout",
     "output_type": "stream",
     "text": [
      "Enter a number to print its table: 8\n",
      "Table of 8:\n",
      "8 x 1 = 8\n",
      "8 x 2 = 16\n",
      "8 x 3 = 24\n",
      "8 x 4 = 32\n",
      "8 x 5 = 40\n",
      "8 x 6 = 48\n",
      "8 x 7 = 56\n",
      "8 x 8 = 64\n",
      "8 x 9 = 72\n",
      "8 x 10 = 80\n"
     ]
    }
   ],
   "source": [
    "num = int(input(\"Enter a number to print its table: \"))\n",
    "\n",
    "# Define the range (e.g., up to 10)\n",
    "table_range = 10\n",
    "\n",
    "# Print the table\n",
    "print(f\"Table of {num}:\")\n",
    "for i in range(1, table_range + 1):\n",
    "    product = num * i\n",
    "    print(f\"{num} x {i} = {product}\")"
   ]
  },
  {
   "cell_type": "markdown",
   "id": "74926f6a",
   "metadata": {},
   "source": [
    "# 7.Write a python program to sum the first 10 prime numbers."
   ]
  },
  {
   "cell_type": "code",
   "execution_count": 71,
   "id": "8b653b67",
   "metadata": {},
   "outputs": [
    {
     "name": "stdout",
     "output_type": "stream",
     "text": [
      "The sum of the first 10 prime numbers is: 129\n"
     ]
    }
   ],
   "source": [
    "def is_prime(number):\n",
    "    if number <= 1:\n",
    "        return False\n",
    "    elif number <= 3:\n",
    "        return True\n",
    "    elif number % 2 == 0 or number % 3 == 0:\n",
    "        return False\n",
    "    i = 5\n",
    "    while i * i <= number:\n",
    "        if number % i == 0 or number % (i + 2) == 0:\n",
    "            return False\n",
    "        i += 6\n",
    "    return True\n",
    "\n",
    "def sum_first_n_primes(N):\n",
    "    prime_numbers = []\n",
    "    number = 2\n",
    "    while len(prime_numbers) < N:\n",
    "        if is_prime(number):\n",
    "            prime_numbers.append(number)\n",
    "        number += 1\n",
    "    return sum(prime_numbers)\n",
    "\n",
    "N = 10  # The first 10 prime numbers\n",
    "sum_of_primes = sum_first_n_primes(N)\n",
    "\n",
    "print(f\"The sum of the first {N} prime numbers is: {sum_of_primes}\")"
   ]
  },
  {
   "cell_type": "markdown",
   "id": "d67971b0",
   "metadata": {},
   "source": [
    "# 8. Write a python program to implement arithematic operations using nested if statement."
   ]
  },
  {
   "cell_type": "code",
   "execution_count": 1,
   "id": "466a3958",
   "metadata": {},
   "outputs": [
    {
     "name": "stdout",
     "output_type": "stream",
     "text": [
      "Enter the first number: 8\n",
      "Enter the second number: 9\n",
      "Enter the operation (+, -, *, /): +\n",
      "Result: 17.0\n"
     ]
    }
   ],
   "source": [
    "# Get user input for two numbers and the operation\n",
    "num1 = float(input(\"Enter the first number: \"))\n",
    "num2 = float(input(\"Enter the second number: \"))\n",
    "operation = input(\"Enter the operation (+, -, *, /): \")\n",
    "\n",
    "# Perform arithmetic operations using nested if statements\n",
    "result = 0\n",
    "\n",
    "if operation == \"+\":\n",
    "    result = num1 + num2\n",
    "elif operation == \"-\":\n",
    "    result = num1 - num2\n",
    "elif operation == \"*\":\n",
    "    result = num1 * num2\n",
    "elif operation == \"/\":\n",
    "    if num2 != 0:  # Check for division by zero\n",
    "        result = num1 / num2\n",
    "    else:\n",
    "        print(\"Error: Division by zero\")\n",
    "else:\n",
    "    print(\"Invalid operation\")\n",
    "\n",
    "# Display the result\n",
    "print(f\"Result: {result}\")\n"
   ]
  },
  {
   "cell_type": "markdown",
   "id": "9180f08a",
   "metadata": {},
   "source": [
    "# 9. Write a python program to take the temperature in celsius and convert it to a Fahrenheit."
   ]
  },
  {
   "cell_type": "code",
   "execution_count": 2,
   "id": "dd83e504",
   "metadata": {},
   "outputs": [
    {
     "name": "stdout",
     "output_type": "stream",
     "text": [
      "Enter temperature in Celsius: 36\n",
      "36.0 degrees Celsius is equal to 96.8 degrees Fahrenheit\n"
     ]
    }
   ],
   "source": [
    "def celsius_to_fahrenheit(celsius):\n",
    "    fahrenheit = (celsius * 9/5) + 32\n",
    "    return fahrenheit\n",
    "\n",
    "# Input temperature in Celsius\n",
    "celsius = float(input(\"Enter temperature in Celsius: \"))\n",
    "\n",
    "# Convert to Fahrenheit\n",
    "fahrenheit = celsius_to_fahrenheit(celsius)\n",
    "\n",
    "# Display the result\n",
    "print(f\"{celsius} degrees Celsius is equal to {fahrenheit} degrees Fahrenheit\")"
   ]
  },
  {
   "cell_type": "markdown",
   "id": "14cdcfbd",
   "metadata": {},
   "source": [
    "# 10. Write a python program to find a maximum and minimum number in a list without using an inbuilt function."
   ]
  },
  {
   "cell_type": "code",
   "execution_count": 3,
   "id": "a4742614",
   "metadata": {},
   "outputs": [
    {
     "name": "stdout",
     "output_type": "stream",
     "text": [
      "Enter a list of numbers separated by spaces: 8 5 18 9 11 16 23 6 \n",
      "Maximum number: 23\n",
      "Minimum number: 5\n"
     ]
    }
   ],
   "source": [
    "def find_max_min(numbers):\n",
    "    if not numbers:\n",
    "        return None, None  # Return None for both max and min if the list is empty\n",
    "\n",
    "    max_num = numbers[0]  \n",
    "    min_num = numbers[0]\n",
    "\n",
    "    for num in numbers:\n",
    "        if num > max_num:\n",
    "            max_num = num\n",
    "        elif num < min_num:\n",
    "            min_num = num\n",
    "\n",
    "    return max_num, min_num\n",
    "\n",
    "# Input list of numbers\n",
    "numbers = [int(x) for x in input(\"Enter a list of numbers separated by spaces: \").split()]\n",
    "\n",
    "# Find the maximum and minimum\n",
    "max_number, min_number = find_max_min(numbers)\n",
    "\n",
    "if max_number is not None and min_number is not None:\n",
    "    print(f\"Maximum number: {max_number}\")\n",
    "    print(f\"Minimum number: {min_number}\")\n",
    "else:\n",
    "    print(\"The list is empty.\")\n"
   ]
  },
  {
   "cell_type": "markdown",
   "id": "3acfd894",
   "metadata": {},
   "source": [
    "# 11. Write a Python Program to print out the number of seconds in 30 day month 30 days, 24 hours in a day, 60 mins per day, 60 second per min."
   ]
  },
  {
   "cell_type": "code",
   "execution_count": 4,
   "id": "11c92e3f",
   "metadata": {},
   "outputs": [
    {
     "name": "stdout",
     "output_type": "stream",
     "text": [
      "Number of seconds in a 30-day month: 2592000\n"
     ]
    }
   ],
   "source": [
    "days_in_month = 30\n",
    "hours_per_day = 24\n",
    "minutes_per_hour = 60\n",
    "seconds_per_minute = 60\n",
    "\n",
    "# Calculate the number of seconds in a 30-day month\n",
    "seconds_in_month = days_in_month * hours_per_day * minutes_per_hour * seconds_per_minute\n",
    "\n",
    "# Print the result\n",
    "print(f\"Number of seconds in a 30-day month: {seconds_in_month}\")"
   ]
  },
  {
   "cell_type": "markdown",
   "id": "12ddc104",
   "metadata": {},
   "source": [
    "# 12. Write a Python Program to print out the number of seconds in a year."
   ]
  },
  {
   "cell_type": "code",
   "execution_count": 5,
   "id": "0b6dd448",
   "metadata": {},
   "outputs": [
    {
     "name": "stdout",
     "output_type": "stream",
     "text": [
      "Number of seconds in a non-leap year: 31536000\n",
      "Number of seconds in a leap year: 31622400\n"
     ]
    }
   ],
   "source": [
    "seconds_per_minute = 60\n",
    "minutes_per_hour = 60\n",
    "hours_per_day = 24\n",
    "days_per_year = 365  # Considering a non-leap year\n",
    "\n",
    "# Calculate the number of seconds in a non-leap year\n",
    "seconds_in_non_leap_year = seconds_per_minute * minutes_per_hour * hours_per_day * days_per_year\n",
    "\n",
    "# Number of seconds in a leap year (1 extra day)\n",
    "seconds_in_leap_year = seconds_in_non_leap_year + (seconds_per_minute * minutes_per_hour * hours_per_day)\n",
    "\n",
    "# Print the results for both non-leap and leap years\n",
    "print(f\"Number of seconds in a non-leap year: {seconds_in_non_leap_year}\")\n",
    "print(f\"Number of seconds in a leap year: {seconds_in_leap_year}\")"
   ]
  },
  {
   "cell_type": "markdown",
   "id": "d0e2b44c",
   "metadata": {},
   "source": [
    "# 13. A high speed train can travel at an avg speed of 150 mph, how long will it take a train travelling at this speed to travel from Londen to Glasgow which is 414 miles away."
   ]
  },
  {
   "cell_type": "code",
   "execution_count": 7,
   "id": "9ae6fed2",
   "metadata": {},
   "outputs": [
    {
     "name": "stdout",
     "output_type": "stream",
     "text": [
      "A high-speed train traveling at 150 mph will take approximately 2.76 hours or 165.60 minutes to travel from London to Glasgow.\n"
     ]
    }
   ],
   "source": [
    "average_speed_mph = 150  # Average speed of the train in miles per hour\n",
    "distance_miles = 414     # Distance from London to Glasgow in miles\n",
    "\n",
    "# Calculate the time in hours\n",
    "time_hours = distance_miles / average_speed_mph\n",
    "\n",
    "# Calculate the time in minutes\n",
    "time_minutes = time_hours * 60\n",
    "\n",
    "# Display the result\n",
    "print(f\"A high-speed train traveling at {average_speed_mph} mph will take approximately {time_hours:.2f} hours or {time_minutes:.2f} minutes to travel from London to Glasgow.\")"
   ]
  },
  {
   "cell_type": "markdown",
   "id": "487ec5dd",
   "metadata": {},
   "source": [
    "# 14.Write a Python Program that defines a variable called days_in_each_school_year and assign 192 to variable. The program should then print out the total hours that you spend in school from year 7 to year 11. if each day you spend 6 hours in school day_in_each_school_year = 192."
   ]
  },
  {
   "cell_type": "code",
   "execution_count": 9,
   "id": "ebb1fc7b",
   "metadata": {},
   "outputs": [
    {
     "name": "stdout",
     "output_type": "stream",
     "text": [
      "Total hours spent in school from year 7 to year 11 : 5760 hours\n"
     ]
    }
   ],
   "source": [
    "days_in_each_school_year = 192  # Number of school days in each school year\n",
    "hours_per_day = 6  # Number of hours spent in school each day\n",
    "\n",
    "# Calculate the total hours spent in school from year 7 to year 11\n",
    "total_hours_in_school = (days_in_each_school_year * 5) * hours_per_day  # 5 school years\n",
    "\n",
    "# Display the result\n",
    "print(f\"Total hours spent in school from year 7 to year 11 : {total_hours_in_school} hours\")"
   ]
  },
  {
   "cell_type": "markdown",
   "id": "65610c72",
   "metadata": {},
   "source": [
    "# 15. If the ages of Ram, Sam and Khan are input through the keyboard, write a python program to determine the eldest and the youngest of the three."
   ]
  },
  {
   "cell_type": "code",
   "execution_count": 10,
   "id": "58a3dbdb",
   "metadata": {},
   "outputs": [
    {
     "name": "stdout",
     "output_type": "stream",
     "text": [
      "Enter Ram's age: 28\n",
      "Enter Sam's age: 15\n",
      "Enter Khan's age: 30\n",
      "The eldest among Ram, Sam, and Khan is: Khan\n",
      "The youngest among Ram, Sam, and Khan is: Sam\n"
     ]
    }
   ],
   "source": [
    "ram_age = int(input(\"Enter Ram's age: \"))\n",
    "sam_age = int(input(\"Enter Sam's age: \"))\n",
    "khan_age = int(input(\"Enter Khan's age: \"))\n",
    "\n",
    "# Determine the eldest and youngest\n",
    "if ram_age > sam_age and ram_age > khan_age:\n",
    "    eldest = \"Ram\"\n",
    "elif sam_age > ram_age and sam_age > khan_age:\n",
    "    eldest = \"Sam\"\n",
    "else:\n",
    "    eldest = \"Khan\"\n",
    "\n",
    "if ram_age < sam_age and ram_age < khan_age:\n",
    "    youngest = \"Ram\"\n",
    "elif sam_age < ram_age and sam_age < khan_age:\n",
    "    youngest = \"Sam\"\n",
    "else:\n",
    "    youngest = \"Khan\"\n",
    "\n",
    "# Display the results\n",
    "print(f\"The eldest among Ram, Sam, and Khan is: {eldest}\")\n",
    "print(f\"The youngest among Ram, Sam, and Khan is: {youngest}\")"
   ]
  },
  {
   "cell_type": "markdown",
   "id": "e0ba0eca",
   "metadata": {},
   "source": [
    "# 16.Write a python program to rotate a list by the right n times with and without slicing technique."
   ]
  },
  {
   "cell_type": "code",
   "execution_count": 15,
   "id": "646ad3b4",
   "metadata": {},
   "outputs": [
    {
     "name": "stdout",
     "output_type": "stream",
     "text": [
      "Enter the number of rotations: 8\n",
      "Rotated list without slicing: [3, 4, 5, 1, 2]\n"
     ]
    }
   ],
   "source": [
    "#without slicing \n",
    "\n",
    "def rotate_right_without_slicing(arr, n):\n",
    "    length = len(arr)\n",
    "    n = n % length  # To handle cases where n is greater than the length of the list\n",
    "\n",
    "    rotated = [0] * length\n",
    "\n",
    "    for i in range(length):\n",
    "        new_index = (i + n) % length\n",
    "        rotated[new_index] = arr[i]\n",
    "\n",
    "    return rotated\n",
    "\n",
    "# Input list and number of rotations\n",
    "original_list = [1, 2, 3, 4, 5]\n",
    "rotations = int(input(\"Enter the number of rotations: \"))\n",
    "\n",
    "rotated_list = rotate_right_without_slicing(original_list, rotations)\n",
    "print(\"Rotated list without slicing:\", rotated_list)"
   ]
  },
  {
   "cell_type": "code",
   "execution_count": 16,
   "id": "13694b92",
   "metadata": {},
   "outputs": [
    {
     "name": "stdout",
     "output_type": "stream",
     "text": [
      "Enter the number of rotations: 9\n",
      "Rotated list with slicing: [2, 3, 4, 5, 1]\n"
     ]
    }
   ],
   "source": [
    "#with slicing\n",
    "\n",
    "def rotate_right_with_slicing(arr, n):\n",
    "    n = n % len(arr)  # To handle cases where n is greater than the length of the list\n",
    "    rotated = arr[-n:] + arr[:-n]\n",
    "    return rotated\n",
    "\n",
    "# Input list and number of rotations\n",
    "original_list = [1, 2, 3, 4, 5]\n",
    "rotations = int(input(\"Enter the number of rotations: \"))\n",
    "\n",
    "rotated_list = rotate_right_with_slicing(original_list, rotations)\n",
    "print(\"Rotated list with slicing:\", rotated_list)"
   ]
  },
  {
   "cell_type": "code",
   "execution_count": null,
   "id": "1b3ef606",
   "metadata": {},
   "outputs": [],
   "source": []
  }
 ],
 "metadata": {
  "kernelspec": {
   "display_name": "Python 3 (ipykernel)",
   "language": "python",
   "name": "python3"
  },
  "language_info": {
   "codemirror_mode": {
    "name": "ipython",
    "version": 3
   },
   "file_extension": ".py",
   "mimetype": "text/x-python",
   "name": "python",
   "nbconvert_exporter": "python",
   "pygments_lexer": "ipython3",
   "version": "3.11.4"
  }
 },
 "nbformat": 4,
 "nbformat_minor": 5
}
